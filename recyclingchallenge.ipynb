{
 "cells": [
  {
   "cell_type": "code",
   "execution_count": 369,
   "metadata": {},
   "outputs": [],
   "source": [
    "#Import libraries\n",
    "\n",
    "import numpy as np\n",
    "import pandas as pd\n",
    "import matplotlib.pyplot as plt"
   ]
  },
  {
   "cell_type": "code",
   "execution_count": 370,
   "metadata": {},
   "outputs": [
    {
     "data": {
      "text/html": [
       "<div>\n",
       "<style scoped>\n",
       "    .dataframe tbody tr th:only-of-type {\n",
       "        vertical-align: middle;\n",
       "    }\n",
       "\n",
       "    .dataframe tbody tr th {\n",
       "        vertical-align: top;\n",
       "    }\n",
       "\n",
       "    .dataframe thead th {\n",
       "        text-align: right;\n",
       "    }\n",
       "</style>\n",
       "<table border=\"1\" class=\"dataframe\">\n",
       "  <thead>\n",
       "    <tr style=\"text-align: right;\">\n",
       "      <th></th>\n",
       "      <th>waste_type</th>\n",
       "      <th>waste_disposed_of_tonne</th>\n",
       "      <th>total_waste_recycled_tonne</th>\n",
       "      <th>total_waste_generated_tonne</th>\n",
       "      <th>recycling_rate</th>\n",
       "      <th>year</th>\n",
       "    </tr>\n",
       "  </thead>\n",
       "  <tbody>\n",
       "    <tr>\n",
       "      <th>0</th>\n",
       "      <td>Food</td>\n",
       "      <td>679900</td>\n",
       "      <td>111100.0</td>\n",
       "      <td>791000</td>\n",
       "      <td>0.14</td>\n",
       "      <td>2016</td>\n",
       "    </tr>\n",
       "    <tr>\n",
       "      <th>1</th>\n",
       "      <td>Paper/Cardboard</td>\n",
       "      <td>576000</td>\n",
       "      <td>607100.0</td>\n",
       "      <td>1183100</td>\n",
       "      <td>0.51</td>\n",
       "      <td>2016</td>\n",
       "    </tr>\n",
       "    <tr>\n",
       "      <th>2</th>\n",
       "      <td>Plastics</td>\n",
       "      <td>762700</td>\n",
       "      <td>59500.0</td>\n",
       "      <td>822200</td>\n",
       "      <td>0.07</td>\n",
       "      <td>2016</td>\n",
       "    </tr>\n",
       "    <tr>\n",
       "      <th>3</th>\n",
       "      <td>C&amp;D</td>\n",
       "      <td>9700</td>\n",
       "      <td>1585700.0</td>\n",
       "      <td>1595400</td>\n",
       "      <td>0.99</td>\n",
       "      <td>2016</td>\n",
       "    </tr>\n",
       "    <tr>\n",
       "      <th>4</th>\n",
       "      <td>Horticultural waste</td>\n",
       "      <td>111500</td>\n",
       "      <td>209000.0</td>\n",
       "      <td>320500</td>\n",
       "      <td>0.65</td>\n",
       "      <td>2016</td>\n",
       "    </tr>\n",
       "  </tbody>\n",
       "</table>\n",
       "</div>"
      ],
      "text/plain": [
       "            waste_type  waste_disposed_of_tonne  total_waste_recycled_tonne  \\\n",
       "0                 Food                   679900                    111100.0   \n",
       "1      Paper/Cardboard                   576000                    607100.0   \n",
       "2             Plastics                   762700                     59500.0   \n",
       "3                  C&D                     9700                   1585700.0   \n",
       "4  Horticultural waste                   111500                    209000.0   \n",
       "\n",
       "   total_waste_generated_tonne  recycling_rate  year  \n",
       "0                       791000            0.14  2016  \n",
       "1                      1183100            0.51  2016  \n",
       "2                       822200            0.07  2016  \n",
       "3                      1595400            0.99  2016  \n",
       "4                       320500            0.65  2016  "
      ]
     },
     "execution_count": 370,
     "metadata": {},
     "output_type": "execute_result"
    }
   ],
   "source": [
    "#load the wastestats.csv\n",
    "\n",
    "wastestats = pd.read_csv('datasets/wastestats.csv')\n",
    "wastestats.head()"
   ]
  },
  {
   "cell_type": "code",
   "execution_count": 372,
   "metadata": {},
   "outputs": [
    {
     "data": {
      "text/plain": [
       "(225, 6)"
      ]
     },
     "execution_count": 372,
     "metadata": {},
     "output_type": "execute_result"
    }
   ],
   "source": [
    "#check number of rows and columns\n",
    "wastestats.shape"
   ]
  },
  {
   "cell_type": "code",
   "execution_count": 373,
   "metadata": {},
   "outputs": [
    {
     "data": {
      "text/plain": [
       "waste_type                     0\n",
       "waste_disposed_of_tonne        0\n",
       "total_waste_recycled_tonne     0\n",
       "total_waste_generated_tonne    0\n",
       "recycling_rate                 0\n",
       "year                           0\n",
       "dtype: int64"
      ]
     },
     "execution_count": 373,
     "metadata": {},
     "output_type": "execute_result"
    }
   ],
   "source": [
    "#Identify missing values\n",
    "wastestats.isna().sum()"
   ]
  },
  {
   "cell_type": "code",
   "execution_count": 374,
   "metadata": {},
   "outputs": [
    {
     "name": "stdout",
     "output_type": "stream",
     "text": [
      "<class 'pandas.core.frame.DataFrame'>\n",
      "RangeIndex: 225 entries, 0 to 224\n",
      "Data columns (total 6 columns):\n",
      " #   Column                       Non-Null Count  Dtype  \n",
      "---  ------                       --------------  -----  \n",
      " 0   waste_type                   225 non-null    object \n",
      " 1   waste_disposed_of_tonne      225 non-null    int64  \n",
      " 2   total_waste_recycled_tonne   225 non-null    float64\n",
      " 3   total_waste_generated_tonne  225 non-null    int64  \n",
      " 4   recycling_rate               225 non-null    float64\n",
      " 5   year                         225 non-null    int64  \n",
      "dtypes: float64(2), int64(3), object(1)\n",
      "memory usage: 10.7+ KB\n"
     ]
    }
   ],
   "source": [
    "#see the datatypes in our dataset\n",
    "wastestats.info()"
   ]
  },
  {
   "cell_type": "code",
   "execution_count": 375,
   "metadata": {},
   "outputs": [
    {
     "data": {
      "text/html": [
       "<div>\n",
       "<style scoped>\n",
       "    .dataframe tbody tr th:only-of-type {\n",
       "        vertical-align: middle;\n",
       "    }\n",
       "\n",
       "    .dataframe tbody tr th {\n",
       "        vertical-align: top;\n",
       "    }\n",
       "\n",
       "    .dataframe thead th {\n",
       "        text-align: right;\n",
       "    }\n",
       "</style>\n",
       "<table border=\"1\" class=\"dataframe\">\n",
       "  <thead>\n",
       "    <tr style=\"text-align: right;\">\n",
       "      <th></th>\n",
       "      <th>Waste Type</th>\n",
       "      <th>Total Generated ('000 tonnes)</th>\n",
       "      <th>Total Recycled ('000 tonnes)</th>\n",
       "      <th>Year</th>\n",
       "    </tr>\n",
       "  </thead>\n",
       "  <tbody>\n",
       "    <tr>\n",
       "      <th>0</th>\n",
       "      <td>Construction&amp; Demolition</td>\n",
       "      <td>1440</td>\n",
       "      <td>1434</td>\n",
       "      <td>2019</td>\n",
       "    </tr>\n",
       "    <tr>\n",
       "      <th>1</th>\n",
       "      <td>Ferrous Metal</td>\n",
       "      <td>1278</td>\n",
       "      <td>1270</td>\n",
       "      <td>2019</td>\n",
       "    </tr>\n",
       "    <tr>\n",
       "      <th>2</th>\n",
       "      <td>Paper/Cardboard</td>\n",
       "      <td>1011</td>\n",
       "      <td>449</td>\n",
       "      <td>2019</td>\n",
       "    </tr>\n",
       "    <tr>\n",
       "      <th>3</th>\n",
       "      <td>Plastics</td>\n",
       "      <td>930</td>\n",
       "      <td>37</td>\n",
       "      <td>2019</td>\n",
       "    </tr>\n",
       "    <tr>\n",
       "      <th>4</th>\n",
       "      <td>Food</td>\n",
       "      <td>7440</td>\n",
       "      <td>136</td>\n",
       "      <td>2019</td>\n",
       "    </tr>\n",
       "  </tbody>\n",
       "</table>\n",
       "</div>"
      ],
      "text/plain": [
       "                 Waste Type  Total Generated ('000 tonnes)  \\\n",
       "0  Construction& Demolition                           1440   \n",
       "1             Ferrous Metal                           1278   \n",
       "2           Paper/Cardboard                           1011   \n",
       "3                  Plastics                            930   \n",
       "4                      Food                           7440   \n",
       "\n",
       "   Total Recycled ('000 tonnes)  Year  \n",
       "0                          1434  2019  \n",
       "1                          1270  2019  \n",
       "2                           449  2019  \n",
       "3                            37  2019  \n",
       "4                           136  2019  "
      ]
     },
     "execution_count": 375,
     "metadata": {},
     "output_type": "execute_result"
    }
   ],
   "source": [
    "#load the 2018_2019_waste.csv \n",
    "waste2018 = pd.read_csv('datasets/2018_2019_waste.csv')\n",
    "waste2018.head()"
   ]
  },
  {
   "cell_type": "code",
   "execution_count": 376,
   "metadata": {},
   "outputs": [
    {
     "data": {
      "text/plain": [
       "(30, 4)"
      ]
     },
     "execution_count": 376,
     "metadata": {},
     "output_type": "execute_result"
    }
   ],
   "source": [
    "waste2018.shape"
   ]
  },
  {
   "cell_type": "code",
   "execution_count": 377,
   "metadata": {},
   "outputs": [
    {
     "data": {
      "text/plain": [
       "Waste Type                       0\n",
       "Total Generated ('000 tonnes)    0\n",
       "Total Recycled ('000 tonnes)     0\n",
       "Year                             0\n",
       "dtype: int64"
      ]
     },
     "execution_count": 377,
     "metadata": {},
     "output_type": "execute_result"
    }
   ],
   "source": [
    "waste2018.isna().sum()"
   ]
  },
  {
   "cell_type": "code",
   "execution_count": 378,
   "metadata": {},
   "outputs": [
    {
     "name": "stdout",
     "output_type": "stream",
     "text": [
      "<class 'pandas.core.frame.DataFrame'>\n",
      "RangeIndex: 30 entries, 0 to 29\n",
      "Data columns (total 4 columns):\n",
      " #   Column                         Non-Null Count  Dtype \n",
      "---  ------                         --------------  ----- \n",
      " 0   Waste Type                     30 non-null     object\n",
      " 1   Total Generated ('000 tonnes)  30 non-null     int64 \n",
      " 2   Total Recycled ('000 tonnes)   30 non-null     int64 \n",
      " 3   Year                           30 non-null     int64 \n",
      "dtypes: int64(3), object(1)\n",
      "memory usage: 1.1+ KB\n"
     ]
    }
   ],
   "source": [
    "waste2018.info()"
   ]
  },
  {
   "cell_type": "code",
   "execution_count": 379,
   "metadata": {},
   "outputs": [
    {
     "data": {
      "text/plain": [
       "(30, 4)"
      ]
     },
     "execution_count": 379,
     "metadata": {},
     "output_type": "execute_result"
    }
   ],
   "source": [
    "waste2018.shape"
   ]
  },
  {
   "cell_type": "markdown",
   "metadata": {},
   "source": [
    "Since the column \"Total Recycled ('000 tonnes)\" indicates that the numbers here are in 000 tonnes, we multiply them by 1000 so that we have them in the same form as those in the wastestats.csv dataset "
   ]
  },
  {
   "cell_type": "code",
   "execution_count": 380,
   "metadata": {},
   "outputs": [],
   "source": [
    "waste2018[\"Total Recycled ('000 tonnes)\"] = 1000 * waste2018[\"Total Recycled ('000 tonnes)\"]\n"
   ]
  },
  {
   "cell_type": "code",
   "execution_count": 381,
   "metadata": {},
   "outputs": [],
   "source": [
    "#change the datatype of \"Total Recycled ('000 tonnes)\" to float to have the same datatype as that of wastestats.csv dataset\n",
    "waste2018[\"Total Recycled ('000 tonnes)\"] = waste2018[\"Total Recycled ('000 tonnes)\"].astype('float')"
   ]
  },
  {
   "cell_type": "markdown",
   "metadata": {},
   "source": [
    "# Selecting columns we will work with in our datasets"
   ]
  },
  {
   "cell_type": "code",
   "execution_count": 384,
   "metadata": {},
   "outputs": [
    {
     "data": {
      "text/html": [
       "<div>\n",
       "<style scoped>\n",
       "    .dataframe tbody tr th:only-of-type {\n",
       "        vertical-align: middle;\n",
       "    }\n",
       "\n",
       "    .dataframe tbody tr th {\n",
       "        vertical-align: top;\n",
       "    }\n",
       "\n",
       "    .dataframe thead th {\n",
       "        text-align: right;\n",
       "    }\n",
       "</style>\n",
       "<table border=\"1\" class=\"dataframe\">\n",
       "  <thead>\n",
       "    <tr style=\"text-align: right;\">\n",
       "      <th></th>\n",
       "      <th>Waste Type</th>\n",
       "      <th>Total Recycled ('000 tonnes)</th>\n",
       "      <th>Year</th>\n",
       "    </tr>\n",
       "  </thead>\n",
       "  <tbody>\n",
       "    <tr>\n",
       "      <th>0</th>\n",
       "      <td>Construction&amp; Demolition</td>\n",
       "      <td>1434000.0</td>\n",
       "      <td>2019</td>\n",
       "    </tr>\n",
       "    <tr>\n",
       "      <th>1</th>\n",
       "      <td>Ferrous Metal</td>\n",
       "      <td>1270000.0</td>\n",
       "      <td>2019</td>\n",
       "    </tr>\n",
       "    <tr>\n",
       "      <th>2</th>\n",
       "      <td>Paper/Cardboard</td>\n",
       "      <td>449000.0</td>\n",
       "      <td>2019</td>\n",
       "    </tr>\n",
       "    <tr>\n",
       "      <th>3</th>\n",
       "      <td>Plastics</td>\n",
       "      <td>37000.0</td>\n",
       "      <td>2019</td>\n",
       "    </tr>\n",
       "    <tr>\n",
       "      <th>4</th>\n",
       "      <td>Food</td>\n",
       "      <td>136000.0</td>\n",
       "      <td>2019</td>\n",
       "    </tr>\n",
       "  </tbody>\n",
       "</table>\n",
       "</div>"
      ],
      "text/plain": [
       "                 Waste Type  Total Recycled ('000 tonnes)  Year\n",
       "0  Construction& Demolition                     1434000.0  2019\n",
       "1             Ferrous Metal                     1270000.0  2019\n",
       "2           Paper/Cardboard                      449000.0  2019\n",
       "3                  Plastics                       37000.0  2019\n",
       "4                      Food                      136000.0  2019"
      ]
     },
     "execution_count": 384,
     "metadata": {},
     "output_type": "execute_result"
    }
   ],
   "source": [
    "new_waste2018 = waste2018[[\"Waste Type\", \"Total Recycled ('000 tonnes)\",\"Year\"]]\n",
    "new_waste2018.head()"
   ]
  },
  {
   "cell_type": "code",
   "execution_count": 385,
   "metadata": {},
   "outputs": [],
   "source": [
    "#Renaming some columns so they match with those in the other dataset\n",
    "new_waste2018_2 = new_waste2018.rename(columns = {\"Waste Type\":\"waste_type\",\"Total Recycled ('000 tonnes)\":\"total_waste_recycled_tonne\",\"Year\":\"year\"})"
   ]
  },
  {
   "cell_type": "markdown",
   "metadata": {},
   "source": [
    "# Merge the two datasets"
   ]
  },
  {
   "cell_type": "code",
   "execution_count": 386,
   "metadata": {},
   "outputs": [],
   "source": [
    "frames = [new_wastestats,new_waste2018_2]"
   ]
  },
  {
   "cell_type": "code",
   "execution_count": 387,
   "metadata": {},
   "outputs": [],
   "source": [
    "recycling_df = pd.concat(frames)"
   ]
  },
  {
   "cell_type": "code",
   "execution_count": 388,
   "metadata": {},
   "outputs": [
    {
     "data": {
      "text/html": [
       "<div>\n",
       "<style scoped>\n",
       "    .dataframe tbody tr th:only-of-type {\n",
       "        vertical-align: middle;\n",
       "    }\n",
       "\n",
       "    .dataframe tbody tr th {\n",
       "        vertical-align: top;\n",
       "    }\n",
       "\n",
       "    .dataframe thead th {\n",
       "        text-align: right;\n",
       "    }\n",
       "</style>\n",
       "<table border=\"1\" class=\"dataframe\">\n",
       "  <thead>\n",
       "    <tr style=\"text-align: right;\">\n",
       "      <th></th>\n",
       "      <th>waste_type</th>\n",
       "      <th>total_waste_recycled_tonne</th>\n",
       "      <th>year</th>\n",
       "    </tr>\n",
       "  </thead>\n",
       "  <tbody>\n",
       "    <tr>\n",
       "      <th>0</th>\n",
       "      <td>Food</td>\n",
       "      <td>111100.0</td>\n",
       "      <td>2016</td>\n",
       "    </tr>\n",
       "    <tr>\n",
       "      <th>1</th>\n",
       "      <td>Paper/Cardboard</td>\n",
       "      <td>607100.0</td>\n",
       "      <td>2016</td>\n",
       "    </tr>\n",
       "    <tr>\n",
       "      <th>2</th>\n",
       "      <td>Plastics</td>\n",
       "      <td>59500.0</td>\n",
       "      <td>2016</td>\n",
       "    </tr>\n",
       "    <tr>\n",
       "      <th>3</th>\n",
       "      <td>C&amp;D</td>\n",
       "      <td>1585700.0</td>\n",
       "      <td>2016</td>\n",
       "    </tr>\n",
       "    <tr>\n",
       "      <th>4</th>\n",
       "      <td>Horticultural waste</td>\n",
       "      <td>209000.0</td>\n",
       "      <td>2016</td>\n",
       "    </tr>\n",
       "    <tr>\n",
       "      <th>...</th>\n",
       "      <td>...</td>\n",
       "      <td>...</td>\n",
       "      <td>...</td>\n",
       "    </tr>\n",
       "    <tr>\n",
       "      <th>25</th>\n",
       "      <td>Non-Ferrous Metal</td>\n",
       "      <td>170000.0</td>\n",
       "      <td>2018</td>\n",
       "    </tr>\n",
       "    <tr>\n",
       "      <th>26</th>\n",
       "      <td>Glass</td>\n",
       "      <td>12000.0</td>\n",
       "      <td>2018</td>\n",
       "    </tr>\n",
       "    <tr>\n",
       "      <th>27</th>\n",
       "      <td>Scrap Tyres</td>\n",
       "      <td>29000.0</td>\n",
       "      <td>2018</td>\n",
       "    </tr>\n",
       "    <tr>\n",
       "      <th>28</th>\n",
       "      <td>Others (stones, ceramic, rubber, ect)</td>\n",
       "      <td>11000.0</td>\n",
       "      <td>2018</td>\n",
       "    </tr>\n",
       "    <tr>\n",
       "      <th>29</th>\n",
       "      <td>Overall</td>\n",
       "      <td>4726000.0</td>\n",
       "      <td>2018</td>\n",
       "    </tr>\n",
       "  </tbody>\n",
       "</table>\n",
       "<p>255 rows × 3 columns</p>\n",
       "</div>"
      ],
      "text/plain": [
       "                               waste_type  total_waste_recycled_tonne  year\n",
       "0                                    Food                    111100.0  2016\n",
       "1                         Paper/Cardboard                    607100.0  2016\n",
       "2                                Plastics                     59500.0  2016\n",
       "3                                     C&D                   1585700.0  2016\n",
       "4                     Horticultural waste                    209000.0  2016\n",
       "..                                    ...                         ...   ...\n",
       "25                      Non-Ferrous Metal                    170000.0  2018\n",
       "26                                  Glass                     12000.0  2018\n",
       "27                            Scrap Tyres                     29000.0  2018\n",
       "28  Others (stones, ceramic, rubber, ect)                     11000.0  2018\n",
       "29                                Overall                   4726000.0  2018\n",
       "\n",
       "[255 rows x 3 columns]"
      ]
     },
     "metadata": {},
     "output_type": "display_data"
    }
   ],
   "source": [
    "display(recycling_df)"
   ]
  },
  {
   "cell_type": "code",
   "execution_count": 389,
   "metadata": {},
   "outputs": [
    {
     "data": {
      "text/plain": [
       "(255, 3)"
      ]
     },
     "execution_count": 389,
     "metadata": {},
     "output_type": "execute_result"
    }
   ],
   "source": [
    "recycling_df.shape"
   ]
  },
  {
   "cell_type": "code",
   "execution_count": 390,
   "metadata": {},
   "outputs": [],
   "source": [
    "#sort values using year\n",
    "recycling_df = recycling_df.sort_values('year')"
   ]
  },
  {
   "cell_type": "code",
   "execution_count": 391,
   "metadata": {},
   "outputs": [
    {
     "name": "stdout",
     "output_type": "stream",
     "text": [
      "                                waste_type  total_waste_recycled_tonne  year\n",
      "200                    Horticultural Waste                    119300.0  2003\n",
      "196                        Paper/Cardboard                    466200.0  2003\n",
      "197                               Plastics                     39100.0  2003\n",
      "198                    Construction Debris                    398300.0  2003\n",
      "199                            Wood/Timber                     40800.0  2003\n",
      "..                                     ...                         ...   ...\n",
      "3                                 Plastics                     37000.0  2019\n",
      "2                          Paper/Cardboard                    449000.0  2019\n",
      "1                            Ferrous Metal                   1270000.0  2019\n",
      "13   Others (stones, ceramic, rubber, ect)                     15000.0  2019\n",
      "0                 Construction& Demolition                   1434000.0  2019\n",
      "\n",
      "[255 rows x 3 columns]\n"
     ]
    }
   ],
   "source": [
    "print(recycling_df)"
   ]
  },
  {
   "cell_type": "markdown",
   "metadata": {},
   "source": [
    "# Formatting data in the merged dataset"
   ]
  },
  {
   "cell_type": "code",
   "execution_count": 392,
   "metadata": {},
   "outputs": [],
   "source": [
    "#make all values in 'waste_type' lowercase\n",
    "recycling_df['waste_type'] = recycling_df['waste_type'].str.lower()"
   ]
  },
  {
   "cell_type": "code",
   "execution_count": 393,
   "metadata": {},
   "outputs": [],
   "source": [
    "#removing whitespaces\n",
    "recycling_df['waste_type'] = recycling_df['waste_type'].str.replace(' ', '')"
   ]
  },
  {
   "cell_type": "code",
   "execution_count": 394,
   "metadata": {},
   "outputs": [],
   "source": [
    "recycling_df['waste_type'] = recycling_df['waste_type'].str.strip()"
   ]
  },
  {
   "cell_type": "code",
   "execution_count": 395,
   "metadata": {},
   "outputs": [
    {
     "data": {
      "text/plain": [
       "array(['horticulturalwaste', 'paper/cardboard', 'plastics',\n",
       "       'constructiondebris', 'wood/timber', 'ferrousmetals', 'foodwaste',\n",
       "       'non-ferrousmetals', 'sludge', 'glass', 'textile/leather',\n",
       "       'scraptyres', 'others(stones,ceramics&rubberetc)', 'total',\n",
       "       'usedslag', 'others', 'ferrousmetal', 'food', 'c&d', 'wood',\n",
       "       'non-ferrousmetal', 'ash&sludge',\n",
       "       'others(stones,ceramics&rubberetc.)',\n",
       "       'others(stones,ceramic,rubber,etc.)', 'plastic', 'ashandsludge',\n",
       "       'horticultural', 'construction&demolition', 'overall',\n",
       "       'others(stones,ceramic,rubber,ect)'], dtype=object)"
      ]
     },
     "execution_count": 395,
     "metadata": {},
     "output_type": "execute_result"
    }
   ],
   "source": [
    "recycling_df['waste_type'].unique()"
   ]
  },
  {
   "cell_type": "code",
   "execution_count": 396,
   "metadata": {},
   "outputs": [],
   "source": [
    "#making same values to have the same name\n",
    "recycling_df['waste_type'].replace({\"ferrousmetal\": \"ferrousmetals\", \"non-ferrousmetal\": \"non-ferrousmetals\",\"plastics\":\"plastic\"}, inplace=True)"
   ]
  },
  {
   "cell_type": "code",
   "execution_count": 397,
   "metadata": {},
   "outputs": [
    {
     "data": {
      "text/plain": [
       "array(['horticulturalwaste', 'paper/cardboard', 'plastic',\n",
       "       'constructiondebris', 'wood/timber', 'ferrousmetals', 'foodwaste',\n",
       "       'non-ferrousmetals', 'sludge', 'glass', 'textile/leather',\n",
       "       'scraptyres', 'others(stones,ceramics&rubberetc)', 'total',\n",
       "       'usedslag', 'others', 'food', 'c&d', 'wood', 'ash&sludge',\n",
       "       'others(stones,ceramics&rubberetc.)',\n",
       "       'others(stones,ceramic,rubber,etc.)', 'ashandsludge',\n",
       "       'horticultural', 'construction&demolition', 'overall',\n",
       "       'others(stones,ceramic,rubber,ect)'], dtype=object)"
      ]
     },
     "execution_count": 397,
     "metadata": {},
     "output_type": "execute_result"
    }
   ],
   "source": [
    "recycling_df['waste_type'].unique()"
   ]
  },
  {
   "cell_type": "markdown",
   "metadata": {},
   "source": [
    "# Getting data from 2015 to 2019"
   ]
  },
  {
   "cell_type": "code",
   "execution_count": 398,
   "metadata": {},
   "outputs": [],
   "source": [
    "new_recycling_df = recycling_df[(recycling_df['year'] >= 2015) & ((recycling_df.waste_type == 'non-ferrousmetals')|(recycling_df.waste_type == 'ferrousmetals')|(recycling_df.waste_type == 'plastic')|(recycling_df.waste_type == 'glass')) ]"
   ]
  },
  {
   "cell_type": "code",
   "execution_count": 151,
   "metadata": {},
   "outputs": [
    {
     "data": {
      "text/html": [
       "<div>\n",
       "<style scoped>\n",
       "    .dataframe tbody tr th:only-of-type {\n",
       "        vertical-align: middle;\n",
       "    }\n",
       "\n",
       "    .dataframe tbody tr th {\n",
       "        vertical-align: top;\n",
       "    }\n",
       "\n",
       "    .dataframe thead th {\n",
       "        text-align: right;\n",
       "    }\n",
       "</style>\n",
       "<table border=\"1\" class=\"dataframe\">\n",
       "  <thead>\n",
       "    <tr style=\"text-align: right;\">\n",
       "      <th></th>\n",
       "      <th>waste_type</th>\n",
       "      <th>total_waste_recycled_tonne</th>\n",
       "      <th>year</th>\n",
       "    </tr>\n",
       "  </thead>\n",
       "  <tbody>\n",
       "    <tr>\n",
       "      <th>17</th>\n",
       "      <td>plastic</td>\n",
       "      <td>57800.0</td>\n",
       "      <td>2015</td>\n",
       "    </tr>\n",
       "    <tr>\n",
       "      <th>22</th>\n",
       "      <td>non-ferrousmetals</td>\n",
       "      <td>160400.0</td>\n",
       "      <td>2015</td>\n",
       "    </tr>\n",
       "    <tr>\n",
       "      <th>25</th>\n",
       "      <td>glass</td>\n",
       "      <td>14600.0</td>\n",
       "      <td>2015</td>\n",
       "    </tr>\n",
       "    <tr>\n",
       "      <th>21</th>\n",
       "      <td>ferrousmetals</td>\n",
       "      <td>1333300.0</td>\n",
       "      <td>2015</td>\n",
       "    </tr>\n",
       "    <tr>\n",
       "      <th>2</th>\n",
       "      <td>plastic</td>\n",
       "      <td>59500.0</td>\n",
       "      <td>2016</td>\n",
       "    </tr>\n",
       "    <tr>\n",
       "      <th>6</th>\n",
       "      <td>ferrousmetals</td>\n",
       "      <td>1351500.0</td>\n",
       "      <td>2016</td>\n",
       "    </tr>\n",
       "    <tr>\n",
       "      <th>7</th>\n",
       "      <td>non-ferrousmetals</td>\n",
       "      <td>95900.0</td>\n",
       "      <td>2016</td>\n",
       "    </tr>\n",
       "    <tr>\n",
       "      <th>10</th>\n",
       "      <td>glass</td>\n",
       "      <td>14700.0</td>\n",
       "      <td>2016</td>\n",
       "    </tr>\n",
       "    <tr>\n",
       "      <th>221</th>\n",
       "      <td>plastic</td>\n",
       "      <td>51800.0</td>\n",
       "      <td>2017</td>\n",
       "    </tr>\n",
       "    <tr>\n",
       "      <th>218</th>\n",
       "      <td>glass</td>\n",
       "      <td>12400.0</td>\n",
       "      <td>2017</td>\n",
       "    </tr>\n",
       "    <tr>\n",
       "      <th>213</th>\n",
       "      <td>non-ferrousmetals</td>\n",
       "      <td>92200.0</td>\n",
       "      <td>2017</td>\n",
       "    </tr>\n",
       "    <tr>\n",
       "      <th>211</th>\n",
       "      <td>ferrousmetals</td>\n",
       "      <td>1371000.0</td>\n",
       "      <td>2017</td>\n",
       "    </tr>\n",
       "    <tr>\n",
       "      <th>16</th>\n",
       "      <td>ferrousmetals</td>\n",
       "      <td>126000.0</td>\n",
       "      <td>2018</td>\n",
       "    </tr>\n",
       "    <tr>\n",
       "      <th>18</th>\n",
       "      <td>plastic</td>\n",
       "      <td>41000.0</td>\n",
       "      <td>2018</td>\n",
       "    </tr>\n",
       "    <tr>\n",
       "      <th>25</th>\n",
       "      <td>non-ferrousmetals</td>\n",
       "      <td>170000.0</td>\n",
       "      <td>2018</td>\n",
       "    </tr>\n",
       "    <tr>\n",
       "      <th>26</th>\n",
       "      <td>glass</td>\n",
       "      <td>12000.0</td>\n",
       "      <td>2018</td>\n",
       "    </tr>\n",
       "    <tr>\n",
       "      <th>11</th>\n",
       "      <td>glass</td>\n",
       "      <td>11000.0</td>\n",
       "      <td>2019</td>\n",
       "    </tr>\n",
       "    <tr>\n",
       "      <th>10</th>\n",
       "      <td>non-ferrousmetals</td>\n",
       "      <td>124000.0</td>\n",
       "      <td>2019</td>\n",
       "    </tr>\n",
       "    <tr>\n",
       "      <th>3</th>\n",
       "      <td>plastic</td>\n",
       "      <td>37000.0</td>\n",
       "      <td>2019</td>\n",
       "    </tr>\n",
       "    <tr>\n",
       "      <th>1</th>\n",
       "      <td>ferrousmetals</td>\n",
       "      <td>1270000.0</td>\n",
       "      <td>2019</td>\n",
       "    </tr>\n",
       "  </tbody>\n",
       "</table>\n",
       "</div>"
      ],
      "text/plain": [
       "            waste_type  total_waste_recycled_tonne  year\n",
       "17             plastic                     57800.0  2015\n",
       "22   non-ferrousmetals                    160400.0  2015\n",
       "25               glass                     14600.0  2015\n",
       "21       ferrousmetals                   1333300.0  2015\n",
       "2              plastic                     59500.0  2016\n",
       "6        ferrousmetals                   1351500.0  2016\n",
       "7    non-ferrousmetals                     95900.0  2016\n",
       "10               glass                     14700.0  2016\n",
       "221            plastic                     51800.0  2017\n",
       "218              glass                     12400.0  2017\n",
       "213  non-ferrousmetals                     92200.0  2017\n",
       "211      ferrousmetals                   1371000.0  2017\n",
       "16       ferrousmetals                    126000.0  2018\n",
       "18             plastic                     41000.0  2018\n",
       "25   non-ferrousmetals                    170000.0  2018\n",
       "26               glass                     12000.0  2018\n",
       "11               glass                     11000.0  2019\n",
       "10   non-ferrousmetals                    124000.0  2019\n",
       "3              plastic                     37000.0  2019\n",
       "1        ferrousmetals                   1270000.0  2019"
      ]
     },
     "execution_count": 151,
     "metadata": {},
     "output_type": "execute_result"
    }
   ],
   "source": [
    "new_recycling_df"
   ]
  },
  {
   "cell_type": "markdown",
   "metadata": {},
   "source": [
    "# Loading the energy_saved.csv dataset"
   ]
  },
  {
   "cell_type": "markdown",
   "metadata": {},
   "source": [
    "The table in the energy_saved.csv dataset gives the amount of energy saved in kilowatt hour (kWh) and the amount of crude oil (barrels) by recycling 1 metric tonne (1000 kilogram) per waste type. 1 barrel oil is approximately 159 litres of oil"
   ]
  },
  {
   "cell_type": "code",
   "execution_count": 399,
   "metadata": {},
   "outputs": [
    {
     "data": {
      "text/html": [
       "<div>\n",
       "<style scoped>\n",
       "    .dataframe tbody tr th:only-of-type {\n",
       "        vertical-align: middle;\n",
       "    }\n",
       "\n",
       "    .dataframe tbody tr th {\n",
       "        vertical-align: top;\n",
       "    }\n",
       "\n",
       "    .dataframe thead th {\n",
       "        text-align: right;\n",
       "    }\n",
       "</style>\n",
       "<table border=\"1\" class=\"dataframe\">\n",
       "  <thead>\n",
       "    <tr style=\"text-align: right;\">\n",
       "      <th></th>\n",
       "      <th>0</th>\n",
       "      <th>1</th>\n",
       "      <th>2</th>\n",
       "      <th>3</th>\n",
       "      <th>4</th>\n",
       "      <th>5</th>\n",
       "    </tr>\n",
       "  </thead>\n",
       "  <tbody>\n",
       "    <tr>\n",
       "      <th>0</th>\n",
       "      <td>material</td>\n",
       "      <td>Plastic</td>\n",
       "      <td>Glass</td>\n",
       "      <td>Ferrous Metal</td>\n",
       "      <td>Non-Ferrous Metal</td>\n",
       "      <td>Paper</td>\n",
       "    </tr>\n",
       "    <tr>\n",
       "      <th>1</th>\n",
       "      <td>energy_saved</td>\n",
       "      <td>5774 Kwh</td>\n",
       "      <td>42 Kwh</td>\n",
       "      <td>642 Kwh</td>\n",
       "      <td>14000 Kwh</td>\n",
       "      <td>4000 kWh</td>\n",
       "    </tr>\n",
       "    <tr>\n",
       "      <th>2</th>\n",
       "      <td>crude_oil saved</td>\n",
       "      <td>16 barrels</td>\n",
       "      <td>NaN</td>\n",
       "      <td>1.8 barrels</td>\n",
       "      <td>40 barrels</td>\n",
       "      <td>1.7 barrels</td>\n",
       "    </tr>\n",
       "  </tbody>\n",
       "</table>\n",
       "</div>"
      ],
      "text/plain": [
       "                 0           1       2              3                  4  \\\n",
       "0         material     Plastic   Glass  Ferrous Metal  Non-Ferrous Metal   \n",
       "1     energy_saved    5774 Kwh  42 Kwh        642 Kwh          14000 Kwh   \n",
       "2  crude_oil saved  16 barrels     NaN    1.8 barrels         40 barrels   \n",
       "\n",
       "             5  \n",
       "0        Paper  \n",
       "1     4000 kWh  \n",
       "2  1.7 barrels  "
      ]
     },
     "execution_count": 399,
     "metadata": {},
     "output_type": "execute_result"
    }
   ],
   "source": [
    "#Contents of the Dataframe created by skipping top 3 lines from csv file\n",
    "energy_saved = pd.read_csv('datasets/energy_saved.csv',skiprows = 3, header = None)\n",
    "energy_saved.head()"
   ]
  },
  {
   "cell_type": "code",
   "execution_count": 400,
   "metadata": {},
   "outputs": [],
   "source": [
    "## Transposing our data\n",
    "energy_saved_t = energy_saved.T.iloc[: , 0:]"
   ]
  },
  {
   "cell_type": "code",
   "execution_count": 402,
   "metadata": {},
   "outputs": [],
   "source": [
    "#Make row number one our header\n",
    "energy_saved_t.columns = energy_saved_t.iloc[0]"
   ]
  },
  {
   "cell_type": "code",
   "execution_count": 404,
   "metadata": {},
   "outputs": [],
   "source": [
    "#deleting duplicate row\n",
    "new_energy_saved_t = energy_saved_t.drop(energy_saved_t.index[0])"
   ]
  },
  {
   "cell_type": "code",
   "execution_count": 405,
   "metadata": {},
   "outputs": [
    {
     "data": {
      "text/html": [
       "<div>\n",
       "<style scoped>\n",
       "    .dataframe tbody tr th:only-of-type {\n",
       "        vertical-align: middle;\n",
       "    }\n",
       "\n",
       "    .dataframe tbody tr th {\n",
       "        vertical-align: top;\n",
       "    }\n",
       "\n",
       "    .dataframe thead th {\n",
       "        text-align: right;\n",
       "    }\n",
       "</style>\n",
       "<table border=\"1\" class=\"dataframe\">\n",
       "  <thead>\n",
       "    <tr style=\"text-align: right;\">\n",
       "      <th></th>\n",
       "      <th>material</th>\n",
       "      <th>energy_saved</th>\n",
       "      <th>crude_oil saved</th>\n",
       "    </tr>\n",
       "  </thead>\n",
       "  <tbody>\n",
       "    <tr>\n",
       "      <th>1</th>\n",
       "      <td>Plastic</td>\n",
       "      <td>5774 Kwh</td>\n",
       "      <td>16 barrels</td>\n",
       "    </tr>\n",
       "    <tr>\n",
       "      <th>2</th>\n",
       "      <td>Glass</td>\n",
       "      <td>42 Kwh</td>\n",
       "      <td>NaN</td>\n",
       "    </tr>\n",
       "    <tr>\n",
       "      <th>3</th>\n",
       "      <td>Ferrous Metal</td>\n",
       "      <td>642 Kwh</td>\n",
       "      <td>1.8 barrels</td>\n",
       "    </tr>\n",
       "    <tr>\n",
       "      <th>4</th>\n",
       "      <td>Non-Ferrous Metal</td>\n",
       "      <td>14000 Kwh</td>\n",
       "      <td>40 barrels</td>\n",
       "    </tr>\n",
       "    <tr>\n",
       "      <th>5</th>\n",
       "      <td>Paper</td>\n",
       "      <td>4000 kWh</td>\n",
       "      <td>1.7 barrels</td>\n",
       "    </tr>\n",
       "  </tbody>\n",
       "</table>\n",
       "</div>"
      ],
      "text/plain": [
       "0           material energy_saved crude_oil saved\n",
       "1            Plastic     5774 Kwh      16 barrels\n",
       "2              Glass       42 Kwh             NaN\n",
       "3      Ferrous Metal      642 Kwh     1.8 barrels\n",
       "4  Non-Ferrous Metal    14000 Kwh      40 barrels\n",
       "5              Paper     4000 kWh     1.7 barrels"
      ]
     },
     "execution_count": 405,
     "metadata": {},
     "output_type": "execute_result"
    }
   ],
   "source": [
    "new_energy_saved_t.head()"
   ]
  },
  {
   "cell_type": "code",
   "execution_count": 406,
   "metadata": {},
   "outputs": [],
   "source": [
    "#droping value which is not useful to us\n",
    "new_energy_saved_t = new_energy_saved_t.drop(labels=5, axis=0)"
   ]
  },
  {
   "cell_type": "code",
   "execution_count": 407,
   "metadata": {},
   "outputs": [],
   "source": [
    "#renaming our values\n",
    "new_energy_saved_t['material'].replace({\"Ferrous Metal\": \"ferrousmetals\", \"Non-Ferrous Metal\": \"non-ferrousmetals\",\"Plastic\":\"plastic\",\"Glass\":\"glass\"}, inplace=True)"
   ]
  },
  {
   "cell_type": "code",
   "execution_count": 408,
   "metadata": {},
   "outputs": [],
   "source": [
    "#renaming column\n",
    "new_energy_saved_t = new_energy_saved_t.rename(columns={'material': 'waste_type'})"
   ]
  },
  {
   "cell_type": "code",
   "execution_count": 409,
   "metadata": {},
   "outputs": [
    {
     "data": {
      "text/html": [
       "<div>\n",
       "<style scoped>\n",
       "    .dataframe tbody tr th:only-of-type {\n",
       "        vertical-align: middle;\n",
       "    }\n",
       "\n",
       "    .dataframe tbody tr th {\n",
       "        vertical-align: top;\n",
       "    }\n",
       "\n",
       "    .dataframe thead th {\n",
       "        text-align: right;\n",
       "    }\n",
       "</style>\n",
       "<table border=\"1\" class=\"dataframe\">\n",
       "  <thead>\n",
       "    <tr style=\"text-align: right;\">\n",
       "      <th></th>\n",
       "      <th>waste_type</th>\n",
       "      <th>energy_saved</th>\n",
       "      <th>crude_oil saved</th>\n",
       "    </tr>\n",
       "  </thead>\n",
       "  <tbody>\n",
       "    <tr>\n",
       "      <th>1</th>\n",
       "      <td>plastic</td>\n",
       "      <td>5774 Kwh</td>\n",
       "      <td>16 barrels</td>\n",
       "    </tr>\n",
       "    <tr>\n",
       "      <th>2</th>\n",
       "      <td>glass</td>\n",
       "      <td>42 Kwh</td>\n",
       "      <td>NaN</td>\n",
       "    </tr>\n",
       "    <tr>\n",
       "      <th>3</th>\n",
       "      <td>ferrousmetals</td>\n",
       "      <td>642 Kwh</td>\n",
       "      <td>1.8 barrels</td>\n",
       "    </tr>\n",
       "    <tr>\n",
       "      <th>4</th>\n",
       "      <td>non-ferrousmetals</td>\n",
       "      <td>14000 Kwh</td>\n",
       "      <td>40 barrels</td>\n",
       "    </tr>\n",
       "  </tbody>\n",
       "</table>\n",
       "</div>"
      ],
      "text/plain": [
       "0         waste_type energy_saved crude_oil saved\n",
       "1            plastic     5774 Kwh      16 barrels\n",
       "2              glass       42 Kwh             NaN\n",
       "3      ferrousmetals      642 Kwh     1.8 barrels\n",
       "4  non-ferrousmetals    14000 Kwh      40 barrels"
      ]
     },
     "execution_count": 409,
     "metadata": {},
     "output_type": "execute_result"
    }
   ],
   "source": [
    "new_energy_saved_t"
   ]
  },
  {
   "cell_type": "markdown",
   "metadata": {},
   "source": [
    "# Remove whitespace in the energy_saved.csv dataset"
   ]
  },
  {
   "cell_type": "code",
   "execution_count": 410,
   "metadata": {},
   "outputs": [],
   "source": [
    "new_energy_saved_t['energy_saved'] = new_energy_saved_t['energy_saved'].str.strip()\n"
   ]
  },
  {
   "cell_type": "code",
   "execution_count": 411,
   "metadata": {},
   "outputs": [],
   "source": [
    "new_energy_saved_t['waste_type'] = new_energy_saved_t['waste_type'].str.strip()"
   ]
  },
  {
   "cell_type": "code",
   "execution_count": 412,
   "metadata": {},
   "outputs": [],
   "source": [
    "new_energy_saved_t = new_energy_saved_t.sort_values(by=['waste_type'])"
   ]
  },
  {
   "cell_type": "code",
   "execution_count": 419,
   "metadata": {},
   "outputs": [],
   "source": [
    "new_energy_saved_t = new_energy_saved_t.rename(columns={'energy_saved': 'energy_saved(Kwh)'})"
   ]
  },
  {
   "cell_type": "code",
   "execution_count": 420,
   "metadata": {},
   "outputs": [
    {
     "data": {
      "text/html": [
       "<div>\n",
       "<style scoped>\n",
       "    .dataframe tbody tr th:only-of-type {\n",
       "        vertical-align: middle;\n",
       "    }\n",
       "\n",
       "    .dataframe tbody tr th {\n",
       "        vertical-align: top;\n",
       "    }\n",
       "\n",
       "    .dataframe thead th {\n",
       "        text-align: right;\n",
       "    }\n",
       "</style>\n",
       "<table border=\"1\" class=\"dataframe\">\n",
       "  <thead>\n",
       "    <tr style=\"text-align: right;\">\n",
       "      <th></th>\n",
       "      <th>waste_type</th>\n",
       "      <th>energy_saved(Kwh)</th>\n",
       "      <th>crude_oil saved</th>\n",
       "    </tr>\n",
       "  </thead>\n",
       "  <tbody>\n",
       "    <tr>\n",
       "      <th>3</th>\n",
       "      <td>ferrousmetals</td>\n",
       "      <td>642.0</td>\n",
       "      <td>1.8 barrels</td>\n",
       "    </tr>\n",
       "    <tr>\n",
       "      <th>2</th>\n",
       "      <td>glass</td>\n",
       "      <td>42.0</td>\n",
       "      <td>NaN</td>\n",
       "    </tr>\n",
       "    <tr>\n",
       "      <th>4</th>\n",
       "      <td>non-ferrousmetals</td>\n",
       "      <td>14000.0</td>\n",
       "      <td>40 barrels</td>\n",
       "    </tr>\n",
       "    <tr>\n",
       "      <th>1</th>\n",
       "      <td>plastic</td>\n",
       "      <td>5774.0</td>\n",
       "      <td>16 barrels</td>\n",
       "    </tr>\n",
       "  </tbody>\n",
       "</table>\n",
       "</div>"
      ],
      "text/plain": [
       "0         waste_type  energy_saved(Kwh) crude_oil saved\n",
       "3      ferrousmetals              642.0     1.8 barrels\n",
       "2              glass               42.0             NaN\n",
       "4  non-ferrousmetals            14000.0      40 barrels\n",
       "1            plastic             5774.0      16 barrels"
      ]
     },
     "execution_count": 420,
     "metadata": {},
     "output_type": "execute_result"
    }
   ],
   "source": [
    "new_energy_saved_t.head()"
   ]
  },
  {
   "cell_type": "markdown",
   "metadata": {},
   "source": [
    "# Get 2015 data"
   ]
  },
  {
   "cell_type": "code",
   "execution_count": 421,
   "metadata": {},
   "outputs": [
    {
     "data": {
      "text/html": [
       "<div>\n",
       "<style scoped>\n",
       "    .dataframe tbody tr th:only-of-type {\n",
       "        vertical-align: middle;\n",
       "    }\n",
       "\n",
       "    .dataframe tbody tr th {\n",
       "        vertical-align: top;\n",
       "    }\n",
       "\n",
       "    .dataframe thead th {\n",
       "        text-align: right;\n",
       "    }\n",
       "</style>\n",
       "<table border=\"1\" class=\"dataframe\">\n",
       "  <thead>\n",
       "    <tr style=\"text-align: right;\">\n",
       "      <th></th>\n",
       "      <th>waste_type</th>\n",
       "      <th>total_waste_recycled_tonne</th>\n",
       "      <th>year</th>\n",
       "    </tr>\n",
       "  </thead>\n",
       "  <tbody>\n",
       "    <tr>\n",
       "      <th>21</th>\n",
       "      <td>ferrousmetals</td>\n",
       "      <td>1333300.0</td>\n",
       "      <td>2015</td>\n",
       "    </tr>\n",
       "    <tr>\n",
       "      <th>25</th>\n",
       "      <td>glass</td>\n",
       "      <td>14600.0</td>\n",
       "      <td>2015</td>\n",
       "    </tr>\n",
       "    <tr>\n",
       "      <th>22</th>\n",
       "      <td>non-ferrousmetals</td>\n",
       "      <td>160400.0</td>\n",
       "      <td>2015</td>\n",
       "    </tr>\n",
       "    <tr>\n",
       "      <th>17</th>\n",
       "      <td>plastic</td>\n",
       "      <td>57800.0</td>\n",
       "      <td>2015</td>\n",
       "    </tr>\n",
       "  </tbody>\n",
       "</table>\n",
       "</div>"
      ],
      "text/plain": [
       "           waste_type  total_waste_recycled_tonne  year\n",
       "21      ferrousmetals                   1333300.0  2015\n",
       "25              glass                     14600.0  2015\n",
       "22  non-ferrousmetals                    160400.0  2015\n",
       "17            plastic                     57800.0  2015"
      ]
     },
     "execution_count": 421,
     "metadata": {},
     "output_type": "execute_result"
    }
   ],
   "source": [
    "new_recycling_df_2015 = new_recycling_df[(new_recycling_df.year == 2015)].sort_values(by=['waste_type'])\n",
    "new_recycling_df_2015"
   ]
  },
  {
   "cell_type": "code",
   "execution_count": 422,
   "metadata": {},
   "outputs": [],
   "source": [
    "mergerd_new_recycling_df_2015 = pd.merge(new_recycling_df_2015, new_energy_saved_t)"
   ]
  },
  {
   "cell_type": "code",
   "execution_count": 423,
   "metadata": {},
   "outputs": [
    {
     "data": {
      "text/html": [
       "<div>\n",
       "<style scoped>\n",
       "    .dataframe tbody tr th:only-of-type {\n",
       "        vertical-align: middle;\n",
       "    }\n",
       "\n",
       "    .dataframe tbody tr th {\n",
       "        vertical-align: top;\n",
       "    }\n",
       "\n",
       "    .dataframe thead th {\n",
       "        text-align: right;\n",
       "    }\n",
       "</style>\n",
       "<table border=\"1\" class=\"dataframe\">\n",
       "  <thead>\n",
       "    <tr style=\"text-align: right;\">\n",
       "      <th></th>\n",
       "      <th>waste_type</th>\n",
       "      <th>total_waste_recycled_tonne</th>\n",
       "      <th>year</th>\n",
       "      <th>energy_saved(Kwh)</th>\n",
       "      <th>crude_oil saved</th>\n",
       "    </tr>\n",
       "  </thead>\n",
       "  <tbody>\n",
       "    <tr>\n",
       "      <th>0</th>\n",
       "      <td>ferrousmetals</td>\n",
       "      <td>1333300.0</td>\n",
       "      <td>2015</td>\n",
       "      <td>642.0</td>\n",
       "      <td>1.8 barrels</td>\n",
       "    </tr>\n",
       "    <tr>\n",
       "      <th>1</th>\n",
       "      <td>glass</td>\n",
       "      <td>14600.0</td>\n",
       "      <td>2015</td>\n",
       "      <td>42.0</td>\n",
       "      <td>NaN</td>\n",
       "    </tr>\n",
       "    <tr>\n",
       "      <th>2</th>\n",
       "      <td>non-ferrousmetals</td>\n",
       "      <td>160400.0</td>\n",
       "      <td>2015</td>\n",
       "      <td>14000.0</td>\n",
       "      <td>40 barrels</td>\n",
       "    </tr>\n",
       "    <tr>\n",
       "      <th>3</th>\n",
       "      <td>plastic</td>\n",
       "      <td>57800.0</td>\n",
       "      <td>2015</td>\n",
       "      <td>5774.0</td>\n",
       "      <td>16 barrels</td>\n",
       "    </tr>\n",
       "  </tbody>\n",
       "</table>\n",
       "</div>"
      ],
      "text/plain": [
       "          waste_type  total_waste_recycled_tonne  year  energy_saved(Kwh)  \\\n",
       "0      ferrousmetals                   1333300.0  2015              642.0   \n",
       "1              glass                     14600.0  2015               42.0   \n",
       "2  non-ferrousmetals                    160400.0  2015            14000.0   \n",
       "3            plastic                     57800.0  2015             5774.0   \n",
       "\n",
       "  crude_oil saved  \n",
       "0     1.8 barrels  \n",
       "1             NaN  \n",
       "2      40 barrels  \n",
       "3      16 barrels  "
      ]
     },
     "execution_count": 423,
     "metadata": {},
     "output_type": "execute_result"
    }
   ],
   "source": [
    "mergerd_new_recycling_df_2015"
   ]
  },
  {
   "cell_type": "code",
   "execution_count": 424,
   "metadata": {},
   "outputs": [],
   "source": [
    "mergerd_new_recycling_df_2015[\"energy_saved_by_recycling\"] = mergerd_new_recycling_df_2015[\"total_waste_recycled_tonne\"] * mergerd_new_recycling_df_2015[\"energy_saved(Kwh)\"]"
   ]
  },
  {
   "cell_type": "code",
   "execution_count": 425,
   "metadata": {},
   "outputs": [
    {
     "data": {
      "text/html": [
       "<div>\n",
       "<style scoped>\n",
       "    .dataframe tbody tr th:only-of-type {\n",
       "        vertical-align: middle;\n",
       "    }\n",
       "\n",
       "    .dataframe tbody tr th {\n",
       "        vertical-align: top;\n",
       "    }\n",
       "\n",
       "    .dataframe thead th {\n",
       "        text-align: right;\n",
       "    }\n",
       "</style>\n",
       "<table border=\"1\" class=\"dataframe\">\n",
       "  <thead>\n",
       "    <tr style=\"text-align: right;\">\n",
       "      <th></th>\n",
       "      <th>waste_type</th>\n",
       "      <th>total_waste_recycled_tonne</th>\n",
       "      <th>year</th>\n",
       "      <th>energy_saved(Kwh)</th>\n",
       "      <th>crude_oil saved</th>\n",
       "      <th>energy_saved_by_recycling</th>\n",
       "    </tr>\n",
       "  </thead>\n",
       "  <tbody>\n",
       "    <tr>\n",
       "      <th>0</th>\n",
       "      <td>ferrousmetals</td>\n",
       "      <td>1333300.0</td>\n",
       "      <td>2015</td>\n",
       "      <td>642.0</td>\n",
       "      <td>1.8 barrels</td>\n",
       "      <td>8.559786e+08</td>\n",
       "    </tr>\n",
       "    <tr>\n",
       "      <th>1</th>\n",
       "      <td>glass</td>\n",
       "      <td>14600.0</td>\n",
       "      <td>2015</td>\n",
       "      <td>42.0</td>\n",
       "      <td>NaN</td>\n",
       "      <td>6.132000e+05</td>\n",
       "    </tr>\n",
       "    <tr>\n",
       "      <th>2</th>\n",
       "      <td>non-ferrousmetals</td>\n",
       "      <td>160400.0</td>\n",
       "      <td>2015</td>\n",
       "      <td>14000.0</td>\n",
       "      <td>40 barrels</td>\n",
       "      <td>2.245600e+09</td>\n",
       "    </tr>\n",
       "    <tr>\n",
       "      <th>3</th>\n",
       "      <td>plastic</td>\n",
       "      <td>57800.0</td>\n",
       "      <td>2015</td>\n",
       "      <td>5774.0</td>\n",
       "      <td>16 barrels</td>\n",
       "      <td>3.337372e+08</td>\n",
       "    </tr>\n",
       "  </tbody>\n",
       "</table>\n",
       "</div>"
      ],
      "text/plain": [
       "          waste_type  total_waste_recycled_tonne  year  energy_saved(Kwh)  \\\n",
       "0      ferrousmetals                   1333300.0  2015              642.0   \n",
       "1              glass                     14600.0  2015               42.0   \n",
       "2  non-ferrousmetals                    160400.0  2015            14000.0   \n",
       "3            plastic                     57800.0  2015             5774.0   \n",
       "\n",
       "  crude_oil saved  energy_saved_by_recycling  \n",
       "0     1.8 barrels               8.559786e+08  \n",
       "1             NaN               6.132000e+05  \n",
       "2      40 barrels               2.245600e+09  \n",
       "3      16 barrels               3.337372e+08  "
      ]
     },
     "execution_count": 425,
     "metadata": {},
     "output_type": "execute_result"
    }
   ],
   "source": [
    "mergerd_new_recycling_df_2015"
   ]
  },
  {
   "cell_type": "markdown",
   "metadata": {},
   "source": [
    "# Get 2016 Data"
   ]
  },
  {
   "cell_type": "code",
   "execution_count": 426,
   "metadata": {},
   "outputs": [
    {
     "data": {
      "text/html": [
       "<div>\n",
       "<style scoped>\n",
       "    .dataframe tbody tr th:only-of-type {\n",
       "        vertical-align: middle;\n",
       "    }\n",
       "\n",
       "    .dataframe tbody tr th {\n",
       "        vertical-align: top;\n",
       "    }\n",
       "\n",
       "    .dataframe thead th {\n",
       "        text-align: right;\n",
       "    }\n",
       "</style>\n",
       "<table border=\"1\" class=\"dataframe\">\n",
       "  <thead>\n",
       "    <tr style=\"text-align: right;\">\n",
       "      <th></th>\n",
       "      <th>waste_type</th>\n",
       "      <th>total_waste_recycled_tonne</th>\n",
       "      <th>year</th>\n",
       "    </tr>\n",
       "  </thead>\n",
       "  <tbody>\n",
       "    <tr>\n",
       "      <th>6</th>\n",
       "      <td>ferrousmetals</td>\n",
       "      <td>1351500.0</td>\n",
       "      <td>2016</td>\n",
       "    </tr>\n",
       "    <tr>\n",
       "      <th>10</th>\n",
       "      <td>glass</td>\n",
       "      <td>14700.0</td>\n",
       "      <td>2016</td>\n",
       "    </tr>\n",
       "    <tr>\n",
       "      <th>7</th>\n",
       "      <td>non-ferrousmetals</td>\n",
       "      <td>95900.0</td>\n",
       "      <td>2016</td>\n",
       "    </tr>\n",
       "    <tr>\n",
       "      <th>2</th>\n",
       "      <td>plastic</td>\n",
       "      <td>59500.0</td>\n",
       "      <td>2016</td>\n",
       "    </tr>\n",
       "  </tbody>\n",
       "</table>\n",
       "</div>"
      ],
      "text/plain": [
       "           waste_type  total_waste_recycled_tonne  year\n",
       "6       ferrousmetals                   1351500.0  2016\n",
       "10              glass                     14700.0  2016\n",
       "7   non-ferrousmetals                     95900.0  2016\n",
       "2             plastic                     59500.0  2016"
      ]
     },
     "execution_count": 426,
     "metadata": {},
     "output_type": "execute_result"
    }
   ],
   "source": [
    "new_recycling_df_2016 = new_recycling_df[(new_recycling_df.year == 2016)].sort_values(by=['waste_type'])\n",
    "new_recycling_df_2016"
   ]
  },
  {
   "cell_type": "code",
   "execution_count": 427,
   "metadata": {},
   "outputs": [],
   "source": [
    "mergerd_new_recycling_df_2016 = pd.merge(new_recycling_df_2016, new_energy_saved_t)"
   ]
  },
  {
   "cell_type": "code",
   "execution_count": 428,
   "metadata": {},
   "outputs": [
    {
     "data": {
      "text/html": [
       "<div>\n",
       "<style scoped>\n",
       "    .dataframe tbody tr th:only-of-type {\n",
       "        vertical-align: middle;\n",
       "    }\n",
       "\n",
       "    .dataframe tbody tr th {\n",
       "        vertical-align: top;\n",
       "    }\n",
       "\n",
       "    .dataframe thead th {\n",
       "        text-align: right;\n",
       "    }\n",
       "</style>\n",
       "<table border=\"1\" class=\"dataframe\">\n",
       "  <thead>\n",
       "    <tr style=\"text-align: right;\">\n",
       "      <th></th>\n",
       "      <th>waste_type</th>\n",
       "      <th>total_waste_recycled_tonne</th>\n",
       "      <th>year</th>\n",
       "      <th>energy_saved(Kwh)</th>\n",
       "      <th>crude_oil saved</th>\n",
       "    </tr>\n",
       "  </thead>\n",
       "  <tbody>\n",
       "    <tr>\n",
       "      <th>0</th>\n",
       "      <td>ferrousmetals</td>\n",
       "      <td>1351500.0</td>\n",
       "      <td>2016</td>\n",
       "      <td>642.0</td>\n",
       "      <td>1.8 barrels</td>\n",
       "    </tr>\n",
       "    <tr>\n",
       "      <th>1</th>\n",
       "      <td>glass</td>\n",
       "      <td>14700.0</td>\n",
       "      <td>2016</td>\n",
       "      <td>42.0</td>\n",
       "      <td>NaN</td>\n",
       "    </tr>\n",
       "    <tr>\n",
       "      <th>2</th>\n",
       "      <td>non-ferrousmetals</td>\n",
       "      <td>95900.0</td>\n",
       "      <td>2016</td>\n",
       "      <td>14000.0</td>\n",
       "      <td>40 barrels</td>\n",
       "    </tr>\n",
       "    <tr>\n",
       "      <th>3</th>\n",
       "      <td>plastic</td>\n",
       "      <td>59500.0</td>\n",
       "      <td>2016</td>\n",
       "      <td>5774.0</td>\n",
       "      <td>16 barrels</td>\n",
       "    </tr>\n",
       "  </tbody>\n",
       "</table>\n",
       "</div>"
      ],
      "text/plain": [
       "          waste_type  total_waste_recycled_tonne  year  energy_saved(Kwh)  \\\n",
       "0      ferrousmetals                   1351500.0  2016              642.0   \n",
       "1              glass                     14700.0  2016               42.0   \n",
       "2  non-ferrousmetals                     95900.0  2016            14000.0   \n",
       "3            plastic                     59500.0  2016             5774.0   \n",
       "\n",
       "  crude_oil saved  \n",
       "0     1.8 barrels  \n",
       "1             NaN  \n",
       "2      40 barrels  \n",
       "3      16 barrels  "
      ]
     },
     "execution_count": 428,
     "metadata": {},
     "output_type": "execute_result"
    }
   ],
   "source": [
    "mergerd_new_recycling_df_2016"
   ]
  },
  {
   "cell_type": "code",
   "execution_count": 429,
   "metadata": {},
   "outputs": [],
   "source": [
    "mergerd_new_recycling_df_2016[\"energy_saved_by_recycling\"] = mergerd_new_recycling_df_2016[\"total_waste_recycled_tonne\"] * mergerd_new_recycling_df_2016[\"energy_saved(Kwh)\"]"
   ]
  },
  {
   "cell_type": "code",
   "execution_count": 430,
   "metadata": {},
   "outputs": [
    {
     "data": {
      "text/html": [
       "<div>\n",
       "<style scoped>\n",
       "    .dataframe tbody tr th:only-of-type {\n",
       "        vertical-align: middle;\n",
       "    }\n",
       "\n",
       "    .dataframe tbody tr th {\n",
       "        vertical-align: top;\n",
       "    }\n",
       "\n",
       "    .dataframe thead th {\n",
       "        text-align: right;\n",
       "    }\n",
       "</style>\n",
       "<table border=\"1\" class=\"dataframe\">\n",
       "  <thead>\n",
       "    <tr style=\"text-align: right;\">\n",
       "      <th></th>\n",
       "      <th>waste_type</th>\n",
       "      <th>total_waste_recycled_tonne</th>\n",
       "      <th>year</th>\n",
       "      <th>energy_saved(Kwh)</th>\n",
       "      <th>crude_oil saved</th>\n",
       "      <th>energy_saved_by_recycling</th>\n",
       "    </tr>\n",
       "  </thead>\n",
       "  <tbody>\n",
       "    <tr>\n",
       "      <th>0</th>\n",
       "      <td>ferrousmetals</td>\n",
       "      <td>1351500.0</td>\n",
       "      <td>2016</td>\n",
       "      <td>642.0</td>\n",
       "      <td>1.8 barrels</td>\n",
       "      <td>8.676630e+08</td>\n",
       "    </tr>\n",
       "    <tr>\n",
       "      <th>1</th>\n",
       "      <td>glass</td>\n",
       "      <td>14700.0</td>\n",
       "      <td>2016</td>\n",
       "      <td>42.0</td>\n",
       "      <td>NaN</td>\n",
       "      <td>6.174000e+05</td>\n",
       "    </tr>\n",
       "    <tr>\n",
       "      <th>2</th>\n",
       "      <td>non-ferrousmetals</td>\n",
       "      <td>95900.0</td>\n",
       "      <td>2016</td>\n",
       "      <td>14000.0</td>\n",
       "      <td>40 barrels</td>\n",
       "      <td>1.342600e+09</td>\n",
       "    </tr>\n",
       "    <tr>\n",
       "      <th>3</th>\n",
       "      <td>plastic</td>\n",
       "      <td>59500.0</td>\n",
       "      <td>2016</td>\n",
       "      <td>5774.0</td>\n",
       "      <td>16 barrels</td>\n",
       "      <td>3.435530e+08</td>\n",
       "    </tr>\n",
       "  </tbody>\n",
       "</table>\n",
       "</div>"
      ],
      "text/plain": [
       "          waste_type  total_waste_recycled_tonne  year  energy_saved(Kwh)  \\\n",
       "0      ferrousmetals                   1351500.0  2016              642.0   \n",
       "1              glass                     14700.0  2016               42.0   \n",
       "2  non-ferrousmetals                     95900.0  2016            14000.0   \n",
       "3            plastic                     59500.0  2016             5774.0   \n",
       "\n",
       "  crude_oil saved  energy_saved_by_recycling  \n",
       "0     1.8 barrels               8.676630e+08  \n",
       "1             NaN               6.174000e+05  \n",
       "2      40 barrels               1.342600e+09  \n",
       "3      16 barrels               3.435530e+08  "
      ]
     },
     "execution_count": 430,
     "metadata": {},
     "output_type": "execute_result"
    }
   ],
   "source": [
    "mergerd_new_recycling_df_2016"
   ]
  },
  {
   "cell_type": "markdown",
   "metadata": {},
   "source": [
    "# 2017 Data"
   ]
  },
  {
   "cell_type": "code",
   "execution_count": 431,
   "metadata": {},
   "outputs": [
    {
     "data": {
      "text/html": [
       "<div>\n",
       "<style scoped>\n",
       "    .dataframe tbody tr th:only-of-type {\n",
       "        vertical-align: middle;\n",
       "    }\n",
       "\n",
       "    .dataframe tbody tr th {\n",
       "        vertical-align: top;\n",
       "    }\n",
       "\n",
       "    .dataframe thead th {\n",
       "        text-align: right;\n",
       "    }\n",
       "</style>\n",
       "<table border=\"1\" class=\"dataframe\">\n",
       "  <thead>\n",
       "    <tr style=\"text-align: right;\">\n",
       "      <th></th>\n",
       "      <th>waste_type</th>\n",
       "      <th>total_waste_recycled_tonne</th>\n",
       "      <th>year</th>\n",
       "    </tr>\n",
       "  </thead>\n",
       "  <tbody>\n",
       "    <tr>\n",
       "      <th>211</th>\n",
       "      <td>ferrousmetals</td>\n",
       "      <td>1371000.0</td>\n",
       "      <td>2017</td>\n",
       "    </tr>\n",
       "    <tr>\n",
       "      <th>218</th>\n",
       "      <td>glass</td>\n",
       "      <td>12400.0</td>\n",
       "      <td>2017</td>\n",
       "    </tr>\n",
       "    <tr>\n",
       "      <th>213</th>\n",
       "      <td>non-ferrousmetals</td>\n",
       "      <td>92200.0</td>\n",
       "      <td>2017</td>\n",
       "    </tr>\n",
       "    <tr>\n",
       "      <th>221</th>\n",
       "      <td>plastic</td>\n",
       "      <td>51800.0</td>\n",
       "      <td>2017</td>\n",
       "    </tr>\n",
       "  </tbody>\n",
       "</table>\n",
       "</div>"
      ],
      "text/plain": [
       "            waste_type  total_waste_recycled_tonne  year\n",
       "211      ferrousmetals                   1371000.0  2017\n",
       "218              glass                     12400.0  2017\n",
       "213  non-ferrousmetals                     92200.0  2017\n",
       "221            plastic                     51800.0  2017"
      ]
     },
     "execution_count": 431,
     "metadata": {},
     "output_type": "execute_result"
    }
   ],
   "source": [
    "new_recycling_df_2017 = new_recycling_df[(new_recycling_df.year == 2017)].sort_values(by=['waste_type'])\n",
    "new_recycling_df_2017"
   ]
  },
  {
   "cell_type": "code",
   "execution_count": 432,
   "metadata": {},
   "outputs": [],
   "source": [
    "mergerd_new_recycling_df_2017 = pd.merge(new_recycling_df_2017, new_energy_saved_t)"
   ]
  },
  {
   "cell_type": "code",
   "execution_count": 433,
   "metadata": {},
   "outputs": [
    {
     "data": {
      "text/html": [
       "<div>\n",
       "<style scoped>\n",
       "    .dataframe tbody tr th:only-of-type {\n",
       "        vertical-align: middle;\n",
       "    }\n",
       "\n",
       "    .dataframe tbody tr th {\n",
       "        vertical-align: top;\n",
       "    }\n",
       "\n",
       "    .dataframe thead th {\n",
       "        text-align: right;\n",
       "    }\n",
       "</style>\n",
       "<table border=\"1\" class=\"dataframe\">\n",
       "  <thead>\n",
       "    <tr style=\"text-align: right;\">\n",
       "      <th></th>\n",
       "      <th>waste_type</th>\n",
       "      <th>total_waste_recycled_tonne</th>\n",
       "      <th>year</th>\n",
       "      <th>energy_saved(Kwh)</th>\n",
       "      <th>crude_oil saved</th>\n",
       "    </tr>\n",
       "  </thead>\n",
       "  <tbody>\n",
       "    <tr>\n",
       "      <th>0</th>\n",
       "      <td>ferrousmetals</td>\n",
       "      <td>1371000.0</td>\n",
       "      <td>2017</td>\n",
       "      <td>642.0</td>\n",
       "      <td>1.8 barrels</td>\n",
       "    </tr>\n",
       "    <tr>\n",
       "      <th>1</th>\n",
       "      <td>glass</td>\n",
       "      <td>12400.0</td>\n",
       "      <td>2017</td>\n",
       "      <td>42.0</td>\n",
       "      <td>NaN</td>\n",
       "    </tr>\n",
       "    <tr>\n",
       "      <th>2</th>\n",
       "      <td>non-ferrousmetals</td>\n",
       "      <td>92200.0</td>\n",
       "      <td>2017</td>\n",
       "      <td>14000.0</td>\n",
       "      <td>40 barrels</td>\n",
       "    </tr>\n",
       "    <tr>\n",
       "      <th>3</th>\n",
       "      <td>plastic</td>\n",
       "      <td>51800.0</td>\n",
       "      <td>2017</td>\n",
       "      <td>5774.0</td>\n",
       "      <td>16 barrels</td>\n",
       "    </tr>\n",
       "  </tbody>\n",
       "</table>\n",
       "</div>"
      ],
      "text/plain": [
       "          waste_type  total_waste_recycled_tonne  year  energy_saved(Kwh)  \\\n",
       "0      ferrousmetals                   1371000.0  2017              642.0   \n",
       "1              glass                     12400.0  2017               42.0   \n",
       "2  non-ferrousmetals                     92200.0  2017            14000.0   \n",
       "3            plastic                     51800.0  2017             5774.0   \n",
       "\n",
       "  crude_oil saved  \n",
       "0     1.8 barrels  \n",
       "1             NaN  \n",
       "2      40 barrels  \n",
       "3      16 barrels  "
      ]
     },
     "execution_count": 433,
     "metadata": {},
     "output_type": "execute_result"
    }
   ],
   "source": [
    "mergerd_new_recycling_df_2017"
   ]
  },
  {
   "cell_type": "code",
   "execution_count": 434,
   "metadata": {},
   "outputs": [],
   "source": [
    "mergerd_new_recycling_df_2017[\"energy_saved_by_recycling\"] = mergerd_new_recycling_df_2017[\"total_waste_recycled_tonne\"] * mergerd_new_recycling_df_2017[\"energy_saved(Kwh)\"]"
   ]
  },
  {
   "cell_type": "code",
   "execution_count": 435,
   "metadata": {},
   "outputs": [
    {
     "data": {
      "text/html": [
       "<div>\n",
       "<style scoped>\n",
       "    .dataframe tbody tr th:only-of-type {\n",
       "        vertical-align: middle;\n",
       "    }\n",
       "\n",
       "    .dataframe tbody tr th {\n",
       "        vertical-align: top;\n",
       "    }\n",
       "\n",
       "    .dataframe thead th {\n",
       "        text-align: right;\n",
       "    }\n",
       "</style>\n",
       "<table border=\"1\" class=\"dataframe\">\n",
       "  <thead>\n",
       "    <tr style=\"text-align: right;\">\n",
       "      <th></th>\n",
       "      <th>waste_type</th>\n",
       "      <th>total_waste_recycled_tonne</th>\n",
       "      <th>year</th>\n",
       "      <th>energy_saved(Kwh)</th>\n",
       "      <th>crude_oil saved</th>\n",
       "      <th>energy_saved_by_recycling</th>\n",
       "    </tr>\n",
       "  </thead>\n",
       "  <tbody>\n",
       "    <tr>\n",
       "      <th>0</th>\n",
       "      <td>ferrousmetals</td>\n",
       "      <td>1371000.0</td>\n",
       "      <td>2017</td>\n",
       "      <td>642.0</td>\n",
       "      <td>1.8 barrels</td>\n",
       "      <td>8.801820e+08</td>\n",
       "    </tr>\n",
       "    <tr>\n",
       "      <th>1</th>\n",
       "      <td>glass</td>\n",
       "      <td>12400.0</td>\n",
       "      <td>2017</td>\n",
       "      <td>42.0</td>\n",
       "      <td>NaN</td>\n",
       "      <td>5.208000e+05</td>\n",
       "    </tr>\n",
       "    <tr>\n",
       "      <th>2</th>\n",
       "      <td>non-ferrousmetals</td>\n",
       "      <td>92200.0</td>\n",
       "      <td>2017</td>\n",
       "      <td>14000.0</td>\n",
       "      <td>40 barrels</td>\n",
       "      <td>1.290800e+09</td>\n",
       "    </tr>\n",
       "    <tr>\n",
       "      <th>3</th>\n",
       "      <td>plastic</td>\n",
       "      <td>51800.0</td>\n",
       "      <td>2017</td>\n",
       "      <td>5774.0</td>\n",
       "      <td>16 barrels</td>\n",
       "      <td>2.990932e+08</td>\n",
       "    </tr>\n",
       "  </tbody>\n",
       "</table>\n",
       "</div>"
      ],
      "text/plain": [
       "          waste_type  total_waste_recycled_tonne  year  energy_saved(Kwh)  \\\n",
       "0      ferrousmetals                   1371000.0  2017              642.0   \n",
       "1              glass                     12400.0  2017               42.0   \n",
       "2  non-ferrousmetals                     92200.0  2017            14000.0   \n",
       "3            plastic                     51800.0  2017             5774.0   \n",
       "\n",
       "  crude_oil saved  energy_saved_by_recycling  \n",
       "0     1.8 barrels               8.801820e+08  \n",
       "1             NaN               5.208000e+05  \n",
       "2      40 barrels               1.290800e+09  \n",
       "3      16 barrels               2.990932e+08  "
      ]
     },
     "execution_count": 435,
     "metadata": {},
     "output_type": "execute_result"
    }
   ],
   "source": [
    "mergerd_new_recycling_df_2017"
   ]
  },
  {
   "cell_type": "markdown",
   "metadata": {},
   "source": [
    "# 2018 Data"
   ]
  },
  {
   "cell_type": "code",
   "execution_count": 436,
   "metadata": {},
   "outputs": [
    {
     "data": {
      "text/html": [
       "<div>\n",
       "<style scoped>\n",
       "    .dataframe tbody tr th:only-of-type {\n",
       "        vertical-align: middle;\n",
       "    }\n",
       "\n",
       "    .dataframe tbody tr th {\n",
       "        vertical-align: top;\n",
       "    }\n",
       "\n",
       "    .dataframe thead th {\n",
       "        text-align: right;\n",
       "    }\n",
       "</style>\n",
       "<table border=\"1\" class=\"dataframe\">\n",
       "  <thead>\n",
       "    <tr style=\"text-align: right;\">\n",
       "      <th></th>\n",
       "      <th>waste_type</th>\n",
       "      <th>total_waste_recycled_tonne</th>\n",
       "      <th>year</th>\n",
       "    </tr>\n",
       "  </thead>\n",
       "  <tbody>\n",
       "    <tr>\n",
       "      <th>16</th>\n",
       "      <td>ferrousmetals</td>\n",
       "      <td>126000.0</td>\n",
       "      <td>2018</td>\n",
       "    </tr>\n",
       "    <tr>\n",
       "      <th>26</th>\n",
       "      <td>glass</td>\n",
       "      <td>12000.0</td>\n",
       "      <td>2018</td>\n",
       "    </tr>\n",
       "    <tr>\n",
       "      <th>25</th>\n",
       "      <td>non-ferrousmetals</td>\n",
       "      <td>170000.0</td>\n",
       "      <td>2018</td>\n",
       "    </tr>\n",
       "    <tr>\n",
       "      <th>18</th>\n",
       "      <td>plastic</td>\n",
       "      <td>41000.0</td>\n",
       "      <td>2018</td>\n",
       "    </tr>\n",
       "  </tbody>\n",
       "</table>\n",
       "</div>"
      ],
      "text/plain": [
       "           waste_type  total_waste_recycled_tonne  year\n",
       "16      ferrousmetals                    126000.0  2018\n",
       "26              glass                     12000.0  2018\n",
       "25  non-ferrousmetals                    170000.0  2018\n",
       "18            plastic                     41000.0  2018"
      ]
     },
     "execution_count": 436,
     "metadata": {},
     "output_type": "execute_result"
    }
   ],
   "source": [
    "new_recycling_df_2018 = new_recycling_df[(new_recycling_df.year == 2018)].sort_values(by=['waste_type'])\n",
    "new_recycling_df_2018"
   ]
  },
  {
   "cell_type": "code",
   "execution_count": 437,
   "metadata": {},
   "outputs": [],
   "source": [
    "mergerd_new_recycling_df_2018 = pd.merge(new_recycling_df_2018, new_energy_saved_t)"
   ]
  },
  {
   "cell_type": "code",
   "execution_count": 438,
   "metadata": {},
   "outputs": [
    {
     "data": {
      "text/html": [
       "<div>\n",
       "<style scoped>\n",
       "    .dataframe tbody tr th:only-of-type {\n",
       "        vertical-align: middle;\n",
       "    }\n",
       "\n",
       "    .dataframe tbody tr th {\n",
       "        vertical-align: top;\n",
       "    }\n",
       "\n",
       "    .dataframe thead th {\n",
       "        text-align: right;\n",
       "    }\n",
       "</style>\n",
       "<table border=\"1\" class=\"dataframe\">\n",
       "  <thead>\n",
       "    <tr style=\"text-align: right;\">\n",
       "      <th></th>\n",
       "      <th>waste_type</th>\n",
       "      <th>total_waste_recycled_tonne</th>\n",
       "      <th>year</th>\n",
       "      <th>energy_saved(Kwh)</th>\n",
       "      <th>crude_oil saved</th>\n",
       "    </tr>\n",
       "  </thead>\n",
       "  <tbody>\n",
       "    <tr>\n",
       "      <th>0</th>\n",
       "      <td>ferrousmetals</td>\n",
       "      <td>126000.0</td>\n",
       "      <td>2018</td>\n",
       "      <td>642.0</td>\n",
       "      <td>1.8 barrels</td>\n",
       "    </tr>\n",
       "    <tr>\n",
       "      <th>1</th>\n",
       "      <td>glass</td>\n",
       "      <td>12000.0</td>\n",
       "      <td>2018</td>\n",
       "      <td>42.0</td>\n",
       "      <td>NaN</td>\n",
       "    </tr>\n",
       "    <tr>\n",
       "      <th>2</th>\n",
       "      <td>non-ferrousmetals</td>\n",
       "      <td>170000.0</td>\n",
       "      <td>2018</td>\n",
       "      <td>14000.0</td>\n",
       "      <td>40 barrels</td>\n",
       "    </tr>\n",
       "    <tr>\n",
       "      <th>3</th>\n",
       "      <td>plastic</td>\n",
       "      <td>41000.0</td>\n",
       "      <td>2018</td>\n",
       "      <td>5774.0</td>\n",
       "      <td>16 barrels</td>\n",
       "    </tr>\n",
       "  </tbody>\n",
       "</table>\n",
       "</div>"
      ],
      "text/plain": [
       "          waste_type  total_waste_recycled_tonne  year  energy_saved(Kwh)  \\\n",
       "0      ferrousmetals                    126000.0  2018              642.0   \n",
       "1              glass                     12000.0  2018               42.0   \n",
       "2  non-ferrousmetals                    170000.0  2018            14000.0   \n",
       "3            plastic                     41000.0  2018             5774.0   \n",
       "\n",
       "  crude_oil saved  \n",
       "0     1.8 barrels  \n",
       "1             NaN  \n",
       "2      40 barrels  \n",
       "3      16 barrels  "
      ]
     },
     "execution_count": 438,
     "metadata": {},
     "output_type": "execute_result"
    }
   ],
   "source": [
    "mergerd_new_recycling_df_2018"
   ]
  },
  {
   "cell_type": "code",
   "execution_count": 439,
   "metadata": {},
   "outputs": [],
   "source": [
    "mergerd_new_recycling_df_2018[\"energy_saved_by_recycling\"] = mergerd_new_recycling_df_2018[\"total_waste_recycled_tonne\"] * mergerd_new_recycling_df_2018[\"energy_saved(Kwh)\"]"
   ]
  },
  {
   "cell_type": "code",
   "execution_count": 440,
   "metadata": {},
   "outputs": [
    {
     "data": {
      "text/html": [
       "<div>\n",
       "<style scoped>\n",
       "    .dataframe tbody tr th:only-of-type {\n",
       "        vertical-align: middle;\n",
       "    }\n",
       "\n",
       "    .dataframe tbody tr th {\n",
       "        vertical-align: top;\n",
       "    }\n",
       "\n",
       "    .dataframe thead th {\n",
       "        text-align: right;\n",
       "    }\n",
       "</style>\n",
       "<table border=\"1\" class=\"dataframe\">\n",
       "  <thead>\n",
       "    <tr style=\"text-align: right;\">\n",
       "      <th></th>\n",
       "      <th>waste_type</th>\n",
       "      <th>total_waste_recycled_tonne</th>\n",
       "      <th>year</th>\n",
       "      <th>energy_saved(Kwh)</th>\n",
       "      <th>crude_oil saved</th>\n",
       "      <th>energy_saved_by_recycling</th>\n",
       "    </tr>\n",
       "  </thead>\n",
       "  <tbody>\n",
       "    <tr>\n",
       "      <th>0</th>\n",
       "      <td>ferrousmetals</td>\n",
       "      <td>126000.0</td>\n",
       "      <td>2018</td>\n",
       "      <td>642.0</td>\n",
       "      <td>1.8 barrels</td>\n",
       "      <td>8.089200e+07</td>\n",
       "    </tr>\n",
       "    <tr>\n",
       "      <th>1</th>\n",
       "      <td>glass</td>\n",
       "      <td>12000.0</td>\n",
       "      <td>2018</td>\n",
       "      <td>42.0</td>\n",
       "      <td>NaN</td>\n",
       "      <td>5.040000e+05</td>\n",
       "    </tr>\n",
       "    <tr>\n",
       "      <th>2</th>\n",
       "      <td>non-ferrousmetals</td>\n",
       "      <td>170000.0</td>\n",
       "      <td>2018</td>\n",
       "      <td>14000.0</td>\n",
       "      <td>40 barrels</td>\n",
       "      <td>2.380000e+09</td>\n",
       "    </tr>\n",
       "    <tr>\n",
       "      <th>3</th>\n",
       "      <td>plastic</td>\n",
       "      <td>41000.0</td>\n",
       "      <td>2018</td>\n",
       "      <td>5774.0</td>\n",
       "      <td>16 barrels</td>\n",
       "      <td>2.367340e+08</td>\n",
       "    </tr>\n",
       "  </tbody>\n",
       "</table>\n",
       "</div>"
      ],
      "text/plain": [
       "          waste_type  total_waste_recycled_tonne  year  energy_saved(Kwh)  \\\n",
       "0      ferrousmetals                    126000.0  2018              642.0   \n",
       "1              glass                     12000.0  2018               42.0   \n",
       "2  non-ferrousmetals                    170000.0  2018            14000.0   \n",
       "3            plastic                     41000.0  2018             5774.0   \n",
       "\n",
       "  crude_oil saved  energy_saved_by_recycling  \n",
       "0     1.8 barrels               8.089200e+07  \n",
       "1             NaN               5.040000e+05  \n",
       "2      40 barrels               2.380000e+09  \n",
       "3      16 barrels               2.367340e+08  "
      ]
     },
     "execution_count": 440,
     "metadata": {},
     "output_type": "execute_result"
    }
   ],
   "source": [
    "mergerd_new_recycling_df_2018"
   ]
  },
  {
   "cell_type": "markdown",
   "metadata": {},
   "source": [
    "# 2019 Data"
   ]
  },
  {
   "cell_type": "code",
   "execution_count": 441,
   "metadata": {},
   "outputs": [
    {
     "data": {
      "text/html": [
       "<div>\n",
       "<style scoped>\n",
       "    .dataframe tbody tr th:only-of-type {\n",
       "        vertical-align: middle;\n",
       "    }\n",
       "\n",
       "    .dataframe tbody tr th {\n",
       "        vertical-align: top;\n",
       "    }\n",
       "\n",
       "    .dataframe thead th {\n",
       "        text-align: right;\n",
       "    }\n",
       "</style>\n",
       "<table border=\"1\" class=\"dataframe\">\n",
       "  <thead>\n",
       "    <tr style=\"text-align: right;\">\n",
       "      <th></th>\n",
       "      <th>waste_type</th>\n",
       "      <th>total_waste_recycled_tonne</th>\n",
       "      <th>year</th>\n",
       "    </tr>\n",
       "  </thead>\n",
       "  <tbody>\n",
       "    <tr>\n",
       "      <th>1</th>\n",
       "      <td>ferrousmetals</td>\n",
       "      <td>1270000.0</td>\n",
       "      <td>2019</td>\n",
       "    </tr>\n",
       "    <tr>\n",
       "      <th>11</th>\n",
       "      <td>glass</td>\n",
       "      <td>11000.0</td>\n",
       "      <td>2019</td>\n",
       "    </tr>\n",
       "    <tr>\n",
       "      <th>10</th>\n",
       "      <td>non-ferrousmetals</td>\n",
       "      <td>124000.0</td>\n",
       "      <td>2019</td>\n",
       "    </tr>\n",
       "    <tr>\n",
       "      <th>3</th>\n",
       "      <td>plastic</td>\n",
       "      <td>37000.0</td>\n",
       "      <td>2019</td>\n",
       "    </tr>\n",
       "  </tbody>\n",
       "</table>\n",
       "</div>"
      ],
      "text/plain": [
       "           waste_type  total_waste_recycled_tonne  year\n",
       "1       ferrousmetals                   1270000.0  2019\n",
       "11              glass                     11000.0  2019\n",
       "10  non-ferrousmetals                    124000.0  2019\n",
       "3             plastic                     37000.0  2019"
      ]
     },
     "execution_count": 441,
     "metadata": {},
     "output_type": "execute_result"
    }
   ],
   "source": [
    "new_recycling_df_2019 = new_recycling_df[(new_recycling_df.year == 2019)].sort_values(by=['waste_type'])\n",
    "new_recycling_df_2019"
   ]
  },
  {
   "cell_type": "code",
   "execution_count": 442,
   "metadata": {},
   "outputs": [],
   "source": [
    "mergerd_new_recycling_df_2019 = pd.merge(new_recycling_df_2019, new_energy_saved_t)"
   ]
  },
  {
   "cell_type": "code",
   "execution_count": 443,
   "metadata": {},
   "outputs": [
    {
     "data": {
      "text/html": [
       "<div>\n",
       "<style scoped>\n",
       "    .dataframe tbody tr th:only-of-type {\n",
       "        vertical-align: middle;\n",
       "    }\n",
       "\n",
       "    .dataframe tbody tr th {\n",
       "        vertical-align: top;\n",
       "    }\n",
       "\n",
       "    .dataframe thead th {\n",
       "        text-align: right;\n",
       "    }\n",
       "</style>\n",
       "<table border=\"1\" class=\"dataframe\">\n",
       "  <thead>\n",
       "    <tr style=\"text-align: right;\">\n",
       "      <th></th>\n",
       "      <th>waste_type</th>\n",
       "      <th>total_waste_recycled_tonne</th>\n",
       "      <th>year</th>\n",
       "      <th>energy_saved(Kwh)</th>\n",
       "      <th>crude_oil saved</th>\n",
       "    </tr>\n",
       "  </thead>\n",
       "  <tbody>\n",
       "    <tr>\n",
       "      <th>0</th>\n",
       "      <td>ferrousmetals</td>\n",
       "      <td>1270000.0</td>\n",
       "      <td>2019</td>\n",
       "      <td>642.0</td>\n",
       "      <td>1.8 barrels</td>\n",
       "    </tr>\n",
       "    <tr>\n",
       "      <th>1</th>\n",
       "      <td>glass</td>\n",
       "      <td>11000.0</td>\n",
       "      <td>2019</td>\n",
       "      <td>42.0</td>\n",
       "      <td>NaN</td>\n",
       "    </tr>\n",
       "    <tr>\n",
       "      <th>2</th>\n",
       "      <td>non-ferrousmetals</td>\n",
       "      <td>124000.0</td>\n",
       "      <td>2019</td>\n",
       "      <td>14000.0</td>\n",
       "      <td>40 barrels</td>\n",
       "    </tr>\n",
       "    <tr>\n",
       "      <th>3</th>\n",
       "      <td>plastic</td>\n",
       "      <td>37000.0</td>\n",
       "      <td>2019</td>\n",
       "      <td>5774.0</td>\n",
       "      <td>16 barrels</td>\n",
       "    </tr>\n",
       "  </tbody>\n",
       "</table>\n",
       "</div>"
      ],
      "text/plain": [
       "          waste_type  total_waste_recycled_tonne  year  energy_saved(Kwh)  \\\n",
       "0      ferrousmetals                   1270000.0  2019              642.0   \n",
       "1              glass                     11000.0  2019               42.0   \n",
       "2  non-ferrousmetals                    124000.0  2019            14000.0   \n",
       "3            plastic                     37000.0  2019             5774.0   \n",
       "\n",
       "  crude_oil saved  \n",
       "0     1.8 barrels  \n",
       "1             NaN  \n",
       "2      40 barrels  \n",
       "3      16 barrels  "
      ]
     },
     "execution_count": 443,
     "metadata": {},
     "output_type": "execute_result"
    }
   ],
   "source": [
    "mergerd_new_recycling_df_2019"
   ]
  },
  {
   "cell_type": "code",
   "execution_count": 444,
   "metadata": {},
   "outputs": [],
   "source": [
    "mergerd_new_recycling_df_2019[\"energy_saved_by_recycling\"] = mergerd_new_recycling_df_2019[\"total_waste_recycled_tonne\"] * mergerd_new_recycling_df_2019[\"energy_saved(Kwh)\"]"
   ]
  },
  {
   "cell_type": "code",
   "execution_count": 445,
   "metadata": {},
   "outputs": [
    {
     "data": {
      "text/html": [
       "<div>\n",
       "<style scoped>\n",
       "    .dataframe tbody tr th:only-of-type {\n",
       "        vertical-align: middle;\n",
       "    }\n",
       "\n",
       "    .dataframe tbody tr th {\n",
       "        vertical-align: top;\n",
       "    }\n",
       "\n",
       "    .dataframe thead th {\n",
       "        text-align: right;\n",
       "    }\n",
       "</style>\n",
       "<table border=\"1\" class=\"dataframe\">\n",
       "  <thead>\n",
       "    <tr style=\"text-align: right;\">\n",
       "      <th></th>\n",
       "      <th>waste_type</th>\n",
       "      <th>total_waste_recycled_tonne</th>\n",
       "      <th>year</th>\n",
       "      <th>energy_saved(Kwh)</th>\n",
       "      <th>crude_oil saved</th>\n",
       "      <th>energy_saved_by_recycling</th>\n",
       "    </tr>\n",
       "  </thead>\n",
       "  <tbody>\n",
       "    <tr>\n",
       "      <th>0</th>\n",
       "      <td>ferrousmetals</td>\n",
       "      <td>1270000.0</td>\n",
       "      <td>2019</td>\n",
       "      <td>642.0</td>\n",
       "      <td>1.8 barrels</td>\n",
       "      <td>8.153400e+08</td>\n",
       "    </tr>\n",
       "    <tr>\n",
       "      <th>1</th>\n",
       "      <td>glass</td>\n",
       "      <td>11000.0</td>\n",
       "      <td>2019</td>\n",
       "      <td>42.0</td>\n",
       "      <td>NaN</td>\n",
       "      <td>4.620000e+05</td>\n",
       "    </tr>\n",
       "    <tr>\n",
       "      <th>2</th>\n",
       "      <td>non-ferrousmetals</td>\n",
       "      <td>124000.0</td>\n",
       "      <td>2019</td>\n",
       "      <td>14000.0</td>\n",
       "      <td>40 barrels</td>\n",
       "      <td>1.736000e+09</td>\n",
       "    </tr>\n",
       "    <tr>\n",
       "      <th>3</th>\n",
       "      <td>plastic</td>\n",
       "      <td>37000.0</td>\n",
       "      <td>2019</td>\n",
       "      <td>5774.0</td>\n",
       "      <td>16 barrels</td>\n",
       "      <td>2.136380e+08</td>\n",
       "    </tr>\n",
       "  </tbody>\n",
       "</table>\n",
       "</div>"
      ],
      "text/plain": [
       "          waste_type  total_waste_recycled_tonne  year  energy_saved(Kwh)  \\\n",
       "0      ferrousmetals                   1270000.0  2019              642.0   \n",
       "1              glass                     11000.0  2019               42.0   \n",
       "2  non-ferrousmetals                    124000.0  2019            14000.0   \n",
       "3            plastic                     37000.0  2019             5774.0   \n",
       "\n",
       "  crude_oil saved  energy_saved_by_recycling  \n",
       "0     1.8 barrels               8.153400e+08  \n",
       "1             NaN               4.620000e+05  \n",
       "2      40 barrels               1.736000e+09  \n",
       "3      16 barrels               2.136380e+08  "
      ]
     },
     "execution_count": 445,
     "metadata": {},
     "output_type": "execute_result"
    }
   ],
   "source": [
    "mergerd_new_recycling_df_2019"
   ]
  },
  {
   "cell_type": "markdown",
   "metadata": {},
   "source": [
    "Below are the amount of energy in Kilowatt-hour (kWh) the government has saved per year\n",
    "by recycling glass, plastic, ferrous, and non-ferrous metals between 2015 and 2019"
   ]
  },
  {
   "cell_type": "code",
   "execution_count": 454,
   "metadata": {},
   "outputs": [
    {
     "data": {
      "text/plain": [
       "3435929000.0"
      ]
     },
     "execution_count": 454,
     "metadata": {},
     "output_type": "execute_result"
    }
   ],
   "source": [
    "total_2015 = mergerd_new_recycling_df_2015['energy_saved_by_recycling'].sum()\n",
    "total_2015"
   ]
  },
  {
   "cell_type": "code",
   "execution_count": 455,
   "metadata": {},
   "outputs": [
    {
     "data": {
      "text/plain": [
       "2554433400.0"
      ]
     },
     "execution_count": 455,
     "metadata": {},
     "output_type": "execute_result"
    }
   ],
   "source": [
    "total_2016 = mergerd_new_recycling_df_2016['energy_saved_by_recycling'].sum()\n",
    "total_2016"
   ]
  },
  {
   "cell_type": "code",
   "execution_count": 456,
   "metadata": {},
   "outputs": [
    {
     "data": {
      "text/plain": [
       "2470596000.0"
      ]
     },
     "execution_count": 456,
     "metadata": {},
     "output_type": "execute_result"
    }
   ],
   "source": [
    "total_2017 = mergerd_new_recycling_df_2017['energy_saved_by_recycling'].sum()\n",
    "total_2017"
   ]
  },
  {
   "cell_type": "code",
   "execution_count": 457,
   "metadata": {},
   "outputs": [
    {
     "data": {
      "text/plain": [
       "2698130000.0"
      ]
     },
     "execution_count": 457,
     "metadata": {},
     "output_type": "execute_result"
    }
   ],
   "source": [
    "total_2018 = mergerd_new_recycling_df_2018['energy_saved_by_recycling'].sum()\n",
    "total_2018"
   ]
  },
  {
   "cell_type": "code",
   "execution_count": 458,
   "metadata": {},
   "outputs": [
    {
     "data": {
      "text/plain": [
       "2765440000.0"
      ]
     },
     "execution_count": 458,
     "metadata": {},
     "output_type": "execute_result"
    }
   ],
   "source": [
    "total_2019 = mergerd_new_recycling_df_2019['energy_saved_by_recycling'].sum()\n",
    "total_2019"
   ]
  },
  {
   "cell_type": "markdown",
   "metadata": {},
   "source": [
    "Below is the table summarising the amount of energy in Kilowatt-hour (kWh) the government has saved per year by recycling glass, plastic, ferrous, and non-ferrous metals between 2015 and 2019"
   ]
  },
  {
   "cell_type": "code",
   "execution_count": 461,
   "metadata": {},
   "outputs": [],
   "source": [
    "data = {'year': [2015,2016,2017,2018,2019], 'total_energy_saved(kWh)': [total_2015, total_2016, total_2017, total_2018,total_2019]}  "
   ]
  },
  {
   "cell_type": "code",
   "execution_count": 462,
   "metadata": {},
   "outputs": [],
   "source": [
    "annual_energy_savings = pd.DataFrame(data)  "
   ]
  },
  {
   "cell_type": "code",
   "execution_count": 463,
   "metadata": {},
   "outputs": [
    {
     "data": {
      "text/html": [
       "<div>\n",
       "<style scoped>\n",
       "    .dataframe tbody tr th:only-of-type {\n",
       "        vertical-align: middle;\n",
       "    }\n",
       "\n",
       "    .dataframe tbody tr th {\n",
       "        vertical-align: top;\n",
       "    }\n",
       "\n",
       "    .dataframe thead th {\n",
       "        text-align: right;\n",
       "    }\n",
       "</style>\n",
       "<table border=\"1\" class=\"dataframe\">\n",
       "  <thead>\n",
       "    <tr style=\"text-align: right;\">\n",
       "      <th></th>\n",
       "      <th>year</th>\n",
       "      <th>total_energy_saved(kWh)</th>\n",
       "    </tr>\n",
       "  </thead>\n",
       "  <tbody>\n",
       "    <tr>\n",
       "      <th>0</th>\n",
       "      <td>2015</td>\n",
       "      <td>3.435929e+09</td>\n",
       "    </tr>\n",
       "    <tr>\n",
       "      <th>1</th>\n",
       "      <td>2016</td>\n",
       "      <td>2.554433e+09</td>\n",
       "    </tr>\n",
       "    <tr>\n",
       "      <th>2</th>\n",
       "      <td>2017</td>\n",
       "      <td>2.470596e+09</td>\n",
       "    </tr>\n",
       "    <tr>\n",
       "      <th>3</th>\n",
       "      <td>2018</td>\n",
       "      <td>2.698130e+09</td>\n",
       "    </tr>\n",
       "    <tr>\n",
       "      <th>4</th>\n",
       "      <td>2019</td>\n",
       "      <td>2.765440e+09</td>\n",
       "    </tr>\n",
       "  </tbody>\n",
       "</table>\n",
       "</div>"
      ],
      "text/plain": [
       "   year  total_energy_saved(kWh)\n",
       "0  2015             3.435929e+09\n",
       "1  2016             2.554433e+09\n",
       "2  2017             2.470596e+09\n",
       "3  2018             2.698130e+09\n",
       "4  2019             2.765440e+09"
      ]
     },
     "execution_count": 463,
     "metadata": {},
     "output_type": "execute_result"
    }
   ],
   "source": [
    "annual_energy_savings"
   ]
  }
 ],
 "metadata": {
  "kernelspec": {
   "display_name": "Python 3",
   "language": "python",
   "name": "python3"
  },
  "language_info": {
   "codemirror_mode": {
    "name": "ipython",
    "version": 3
   },
   "file_extension": ".py",
   "mimetype": "text/x-python",
   "name": "python",
   "nbconvert_exporter": "python",
   "pygments_lexer": "ipython3",
   "version": "3.8.5"
  }
 },
 "nbformat": 4,
 "nbformat_minor": 4
}
